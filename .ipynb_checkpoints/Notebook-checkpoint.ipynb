{
 "cells": [
  {
   "cell_type": "code",
   "execution_count": 1,
   "id": "013347d2-5f34-42bc-bd7e-1f870103cbfc",
   "metadata": {},
   "outputs": [],
   "source": [
    "import numpy as np\n",
    "import pandas as pd\n",
    "import matplotlib.pyplot as plt\n",
    "import matplotlib.pyplot as plt\n",
    "from statsmodels.tsa.stattools import adfuller\n",
    "from statsmodels.tsa.seasonal import seasonal_decompose\n",
    "\n",
    "import warnings\n",
    "warnings.filterwarnings(\"ignore\", category=FutureWarning)"
   ]
  },
  {
   "cell_type": "code",
   "execution_count": 2,
   "id": "bf3af22e-a8f2-4fdc-83b7-0750fe9e58bc",
   "metadata": {},
   "outputs": [],
   "source": [
    "df = pd.read_csv(\"./Data/AAPL.xls\")"
   ]
  },
  {
   "cell_type": "code",
   "execution_count": 3,
   "id": "3c1b39b5-3c0c-44f0-bf30-9c641b4edf89",
   "metadata": {},
   "outputs": [
    {
     "data": {
      "text/html": [
       "<div>\n",
       "<style scoped>\n",
       "    .dataframe tbody tr th:only-of-type {\n",
       "        vertical-align: middle;\n",
       "    }\n",
       "\n",
       "    .dataframe tbody tr th {\n",
       "        vertical-align: top;\n",
       "    }\n",
       "\n",
       "    .dataframe thead th {\n",
       "        text-align: right;\n",
       "    }\n",
       "</style>\n",
       "<table border=\"1\" class=\"dataframe\">\n",
       "  <thead>\n",
       "    <tr style=\"text-align: right;\">\n",
       "      <th></th>\n",
       "      <th>Date</th>\n",
       "      <th>Open</th>\n",
       "      <th>High</th>\n",
       "      <th>Low</th>\n",
       "      <th>Close</th>\n",
       "      <th>Adj Close</th>\n",
       "      <th>Volume</th>\n",
       "    </tr>\n",
       "  </thead>\n",
       "  <tbody>\n",
       "    <tr>\n",
       "      <th>0</th>\n",
       "      <td>1980-12-12</td>\n",
       "      <td>0.128348</td>\n",
       "      <td>0.128906</td>\n",
       "      <td>0.128348</td>\n",
       "      <td>0.128348</td>\n",
       "      <td>0.100323</td>\n",
       "      <td>469033600</td>\n",
       "    </tr>\n",
       "    <tr>\n",
       "      <th>1</th>\n",
       "      <td>1980-12-15</td>\n",
       "      <td>0.122210</td>\n",
       "      <td>0.122210</td>\n",
       "      <td>0.121652</td>\n",
       "      <td>0.121652</td>\n",
       "      <td>0.095089</td>\n",
       "      <td>175884800</td>\n",
       "    </tr>\n",
       "    <tr>\n",
       "      <th>2</th>\n",
       "      <td>1980-12-16</td>\n",
       "      <td>0.113281</td>\n",
       "      <td>0.113281</td>\n",
       "      <td>0.112723</td>\n",
       "      <td>0.112723</td>\n",
       "      <td>0.088110</td>\n",
       "      <td>105728000</td>\n",
       "    </tr>\n",
       "    <tr>\n",
       "      <th>3</th>\n",
       "      <td>1980-12-17</td>\n",
       "      <td>0.115513</td>\n",
       "      <td>0.116071</td>\n",
       "      <td>0.115513</td>\n",
       "      <td>0.115513</td>\n",
       "      <td>0.090291</td>\n",
       "      <td>86441600</td>\n",
       "    </tr>\n",
       "    <tr>\n",
       "      <th>4</th>\n",
       "      <td>1980-12-18</td>\n",
       "      <td>0.118862</td>\n",
       "      <td>0.119420</td>\n",
       "      <td>0.118862</td>\n",
       "      <td>0.118862</td>\n",
       "      <td>0.092908</td>\n",
       "      <td>73449600</td>\n",
       "    </tr>\n",
       "  </tbody>\n",
       "</table>\n",
       "</div>"
      ],
      "text/plain": [
       "         Date      Open      High       Low     Close  Adj Close     Volume\n",
       "0  1980-12-12  0.128348  0.128906  0.128348  0.128348   0.100323  469033600\n",
       "1  1980-12-15  0.122210  0.122210  0.121652  0.121652   0.095089  175884800\n",
       "2  1980-12-16  0.113281  0.113281  0.112723  0.112723   0.088110  105728000\n",
       "3  1980-12-17  0.115513  0.116071  0.115513  0.115513   0.090291   86441600\n",
       "4  1980-12-18  0.118862  0.119420  0.118862  0.118862   0.092908   73449600"
      ]
     },
     "execution_count": 3,
     "metadata": {},
     "output_type": "execute_result"
    }
   ],
   "source": [
    "df.head()"
   ]
  },
  {
   "cell_type": "code",
   "execution_count": 4,
   "id": "3f8601c3-9a33-4783-acf1-5f0fa6b89f38",
   "metadata": {},
   "outputs": [
    {
     "data": {
      "text/html": [
       "<div>\n",
       "<style scoped>\n",
       "    .dataframe tbody tr th:only-of-type {\n",
       "        vertical-align: middle;\n",
       "    }\n",
       "\n",
       "    .dataframe tbody tr th {\n",
       "        vertical-align: top;\n",
       "    }\n",
       "\n",
       "    .dataframe thead th {\n",
       "        text-align: right;\n",
       "    }\n",
       "</style>\n",
       "<table border=\"1\" class=\"dataframe\">\n",
       "  <thead>\n",
       "    <tr style=\"text-align: right;\">\n",
       "      <th></th>\n",
       "      <th>Date</th>\n",
       "      <th>Open</th>\n",
       "      <th>High</th>\n",
       "      <th>Low</th>\n",
       "      <th>Close</th>\n",
       "      <th>Adj Close</th>\n",
       "      <th>Volume</th>\n",
       "    </tr>\n",
       "  </thead>\n",
       "  <tbody>\n",
       "    <tr>\n",
       "      <th>10404</th>\n",
       "      <td>2022-03-18</td>\n",
       "      <td>160.509995</td>\n",
       "      <td>164.479996</td>\n",
       "      <td>159.759995</td>\n",
       "      <td>163.979996</td>\n",
       "      <td>163.979996</td>\n",
       "      <td>123351200</td>\n",
       "    </tr>\n",
       "    <tr>\n",
       "      <th>10405</th>\n",
       "      <td>2022-03-21</td>\n",
       "      <td>163.509995</td>\n",
       "      <td>166.350006</td>\n",
       "      <td>163.009995</td>\n",
       "      <td>165.380005</td>\n",
       "      <td>165.380005</td>\n",
       "      <td>95811400</td>\n",
       "    </tr>\n",
       "    <tr>\n",
       "      <th>10406</th>\n",
       "      <td>2022-03-22</td>\n",
       "      <td>165.509995</td>\n",
       "      <td>169.419998</td>\n",
       "      <td>164.910004</td>\n",
       "      <td>168.820007</td>\n",
       "      <td>168.820007</td>\n",
       "      <td>81532000</td>\n",
       "    </tr>\n",
       "    <tr>\n",
       "      <th>10407</th>\n",
       "      <td>2022-03-23</td>\n",
       "      <td>167.990005</td>\n",
       "      <td>172.639999</td>\n",
       "      <td>167.649994</td>\n",
       "      <td>170.210007</td>\n",
       "      <td>170.210007</td>\n",
       "      <td>98062700</td>\n",
       "    </tr>\n",
       "    <tr>\n",
       "      <th>10408</th>\n",
       "      <td>2022-03-24</td>\n",
       "      <td>171.059998</td>\n",
       "      <td>174.139999</td>\n",
       "      <td>170.210007</td>\n",
       "      <td>174.070007</td>\n",
       "      <td>174.070007</td>\n",
       "      <td>90018700</td>\n",
       "    </tr>\n",
       "  </tbody>\n",
       "</table>\n",
       "</div>"
      ],
      "text/plain": [
       "             Date        Open        High         Low       Close   Adj Close  \\\n",
       "10404  2022-03-18  160.509995  164.479996  159.759995  163.979996  163.979996   \n",
       "10405  2022-03-21  163.509995  166.350006  163.009995  165.380005  165.380005   \n",
       "10406  2022-03-22  165.509995  169.419998  164.910004  168.820007  168.820007   \n",
       "10407  2022-03-23  167.990005  172.639999  167.649994  170.210007  170.210007   \n",
       "10408  2022-03-24  171.059998  174.139999  170.210007  174.070007  174.070007   \n",
       "\n",
       "          Volume  \n",
       "10404  123351200  \n",
       "10405   95811400  \n",
       "10406   81532000  \n",
       "10407   98062700  \n",
       "10408   90018700  "
      ]
     },
     "execution_count": 4,
     "metadata": {},
     "output_type": "execute_result"
    }
   ],
   "source": [
    "df.tail()"
   ]
  },
  {
   "cell_type": "code",
   "execution_count": 5,
   "id": "c35facc3-d835-40ae-85a2-3bf7e087e2ef",
   "metadata": {},
   "outputs": [
    {
     "name": "stdout",
     "output_type": "stream",
     "text": [
      "<class 'pandas.core.frame.DataFrame'>\n",
      "RangeIndex: 10409 entries, 0 to 10408\n",
      "Data columns (total 7 columns):\n",
      " #   Column     Non-Null Count  Dtype  \n",
      "---  ------     --------------  -----  \n",
      " 0   Date       10409 non-null  object \n",
      " 1   Open       10409 non-null  float64\n",
      " 2   High       10409 non-null  float64\n",
      " 3   Low        10409 non-null  float64\n",
      " 4   Close      10409 non-null  float64\n",
      " 5   Adj Close  10409 non-null  float64\n",
      " 6   Volume     10409 non-null  int64  \n",
      "dtypes: float64(5), int64(1), object(1)\n",
      "memory usage: 569.4+ KB\n",
      "None\n",
      "               Open          High           Low         Close     Adj Close  \\\n",
      "count  10409.000000  10409.000000  10409.000000  10409.000000  10409.000000   \n",
      "mean      13.959910     14.111936     13.809163     13.966757     13.350337   \n",
      "std       30.169244     30.514878     29.835055     30.191696     29.911132   \n",
      "min        0.049665      0.049665      0.049107      0.049107      0.038384   \n",
      "25%        0.281964      0.287946      0.274554      0.281250      0.234799   \n",
      "50%        0.468750      0.477679      0.459821      0.468750      0.386853   \n",
      "75%       14.217857     14.364286     14.043571     14.206071     12.188149   \n",
      "max      182.630005    182.940002    179.119995    182.009995    181.778397   \n",
      "\n",
      "             Volume  \n",
      "count  1.040900e+04  \n",
      "mean   3.321778e+08  \n",
      "std    3.393344e+08  \n",
      "min    0.000000e+00  \n",
      "25%    1.247604e+08  \n",
      "50%    2.199680e+08  \n",
      "75%    4.126108e+08  \n",
      "max    7.421641e+09  \n",
      "Date         0\n",
      "Open         0\n",
      "High         0\n",
      "Low          0\n",
      "Close        0\n",
      "Adj Close    0\n",
      "Volume       0\n",
      "dtype: int64\n"
     ]
    }
   ],
   "source": [
    "# EDA\n",
    "print(df.info())\n",
    "print(df.describe())\n",
    "print(df.isna().sum())"
   ]
  },
  {
   "cell_type": "code",
   "execution_count": 6,
   "id": "e30f66e0-6394-4f68-ae6b-485067343bb6",
   "metadata": {},
   "outputs": [],
   "source": [
    "df = df.set_index(\"Date\") # Set Date column as the index for time series operation"
   ]
  },
  {
   "cell_type": "code",
   "execution_count": null,
   "id": "5eca91a1-fb44-46a8-9bff-2fa564f5a4f8",
   "metadata": {},
   "outputs": [],
   "source": [
    "# Plot Close price\n",
    "plt.figure(figsize=(12, 6))\n",
    "plt.plot(df['Close'])\n",
    "plt.title('AAPL Close Price Over Time')\n",
    "plt.xlabel('Date')\n",
    "plt.ylabel('Close Price')\n",
    "plt.show()"
   ]
  },
  {
   "cell_type": "code",
   "execution_count": null,
   "id": "35f81ac9-1668-4c98-96ed-e0d5693319d1",
   "metadata": {},
   "outputs": [],
   "source": [
    "simple_ma = df[\"Close\"].rolling(window=100).mean()\n",
    "\n",
    "plt.figure(figsize=(12,6))\n",
    "simple_ma.plot(label=\"Simple Moving Average\")\n",
    "df[\"Close\"].plot(label=\"Closing Price\")\n",
    "plt.xticks(rotation=0)\n",
    "plt.title(\"Moving Average of Closing Price\", size=12)\n",
    "plt.legend()\n",
    "plt.show()"
   ]
  },
  {
   "cell_type": "code",
   "execution_count": null,
   "id": "208981b7-7f2f-4e65-8730-db842a5e9d6a",
   "metadata": {},
   "outputs": [],
   "source": [
    "results = seasonal_decompose(df[\"Close\"], model=\"multiplicative\", period=252)\n",
    "fig = results.plot()\n",
    "fig.set_size_inches(12, 6)\n",
    "fig.tight_layout()\n",
    "plt.show()"
   ]
  },
  {
   "cell_type": "code",
   "execution_count": null,
   "id": "bfc647a9-adf1-48cd-b96d-d5932b3329ba",
   "metadata": {},
   "outputs": [],
   "source": [
    "# Check stationarity for Close\n",
    "result = adfuller(df['Close'])\n",
    "print(f'ADF Statistic: {result[0]}')\n",
    "print(f'p-value: {result[1]}')"
   ]
  },
  {
   "cell_type": "code",
   "execution_count": null,
   "id": "5f840441-472e-4308-953f-61eb40a32d37",
   "metadata": {},
   "outputs": [],
   "source": [
    "# Non stationary series as p > 0.05 \n",
    "# Create differenced series for ARIMA\n",
    "df['Close_diff'] = df['Close'].diff()"
   ]
  },
  {
   "cell_type": "code",
   "execution_count": null,
   "id": "5c86ff73-a055-4a96-b96f-385bfc92e552",
   "metadata": {},
   "outputs": [],
   "source": [
    "result = adfuller(df['Close_diff'].dropna())\n",
    "print(f'ADF Statistic: {result[0]}')\n",
    "print(f'p-value: {result[1]}')"
   ]
  },
  {
   "cell_type": "code",
   "execution_count": null,
   "id": "c368dc6c-519f-4773-9832-2aaee2dda7cc",
   "metadata": {},
   "outputs": [],
   "source": [
    "# Time-based split: 70% train, 15% dev, 15% test\n",
    "train_size = int(len(df) * 0.7)\n",
    "dev_size = int(len(df) * 0.15)\n",
    "test_size = len(df) - train_size - dev_size\n",
    "\n",
    "train = df.iloc[:train_size]\n",
    "dev = df.iloc[train_size:train_size + dev_size]\n",
    "test = df.iloc[train_size + dev_size:]\n",
    "\n",
    "\n",
    "\n",
    "print(f'Train: {len(train)}, Dev: {len(dev)}, Test: {len(test)}')"
   ]
  },
  {
   "cell_type": "code",
   "execution_count": null,
   "id": "af80fcba-5ee1-4c19-a093-3c6446d36db6",
   "metadata": {},
   "outputs": [],
   "source": [
    "from statsmodels.tsa.arima.model import ARIMA\n",
    "\n",
    "arima_model = ARIMA(train['Close'], order=(0, 1, 0)).fit()\n",
    "print(arima_model.summary())\n",
    "\n",
    "# Forecast on dev set for tuning\n",
    "arima_forecast_dev = arima_model.forecast(steps=len(dev))"
   ]
  },
  {
   "cell_type": "code",
   "execution_count": null,
   "id": "dfd36844-65e5-4616-8a48-bb86c4732c0d",
   "metadata": {},
   "outputs": [],
   "source": []
  }
 ],
 "metadata": {
  "kernelspec": {
   "display_name": "Python 3 (ipykernel)",
   "language": "python",
   "name": "python3"
  },
  "language_info": {
   "codemirror_mode": {
    "name": "ipython",
    "version": 3
   },
   "file_extension": ".py",
   "mimetype": "text/x-python",
   "name": "python",
   "nbconvert_exporter": "python",
   "pygments_lexer": "ipython3",
   "version": "3.12.11"
  }
 },
 "nbformat": 4,
 "nbformat_minor": 5
}
